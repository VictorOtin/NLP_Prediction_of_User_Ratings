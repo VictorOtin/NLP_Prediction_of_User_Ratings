{
 "cells": [
  {
   "cell_type": "code",
   "execution_count": 1,
   "metadata": {},
   "outputs": [],
   "source": [
    "import numpy as np\n",
    "import pandas as pd\n",
    "import matplotlib.pyplot as plt\n",
    "\n",
    "data = pd.read_csv(\"ratings.csv\")"
   ]
  },
  {
   "cell_type": "markdown",
   "metadata": {},
   "source": [
    "#### Let's take a look at the data!"
   ]
  },
  {
   "cell_type": "code",
   "execution_count": 2,
   "metadata": {},
   "outputs": [
    {
     "data": {
      "text/html": [
       "<div>\n",
       "<style scoped>\n",
       "    .dataframe tbody tr th:only-of-type {\n",
       "        vertical-align: middle;\n",
       "    }\n",
       "\n",
       "    .dataframe tbody tr th {\n",
       "        vertical-align: top;\n",
       "    }\n",
       "\n",
       "    .dataframe thead th {\n",
       "        text-align: right;\n",
       "    }\n",
       "</style>\n",
       "<table border=\"1\" class=\"dataframe\">\n",
       "  <thead>\n",
       "    <tr style=\"text-align: right;\">\n",
       "      <th></th>\n",
       "      <th>TEXT</th>\n",
       "      <th>RATING</th>\n",
       "    </tr>\n",
       "  </thead>\n",
       "  <tbody>\n",
       "    <tr>\n",
       "      <th>0</th>\n",
       "      <td>The shirt was more of a smock. I expected a so...</td>\n",
       "      <td>1</td>\n",
       "    </tr>\n",
       "    <tr>\n",
       "      <th>1</th>\n",
       "      <td>The shirt was more of a smock. I expected a so...</td>\n",
       "      <td>1</td>\n",
       "    </tr>\n",
       "    <tr>\n",
       "      <th>2</th>\n",
       "      <td>The shirt was more of a smock. I expected a so...</td>\n",
       "      <td>1</td>\n",
       "    </tr>\n",
       "    <tr>\n",
       "      <th>3</th>\n",
       "      <td>Just received my order today. When I opened th...</td>\n",
       "      <td>1</td>\n",
       "    </tr>\n",
       "    <tr>\n",
       "      <th>4</th>\n",
       "      <td>First of all, the button hole on this belt nev...</td>\n",
       "      <td>1</td>\n",
       "    </tr>\n",
       "    <tr>\n",
       "      <th>5</th>\n",
       "      <td>these didnt hold anything up and was obvious i...</td>\n",
       "      <td>1</td>\n",
       "    </tr>\n",
       "    <tr>\n",
       "      <th>6</th>\n",
       "      <td>Nothing else needed to say</td>\n",
       "      <td>1</td>\n",
       "    </tr>\n",
       "    <tr>\n",
       "      <th>7</th>\n",
       "      <td>This didn't work on most of my pants because t...</td>\n",
       "      <td>1</td>\n",
       "    </tr>\n",
       "    <tr>\n",
       "      <th>8</th>\n",
       "      <td>I was really excited to get this product but w...</td>\n",
       "      <td>1</td>\n",
       "    </tr>\n",
       "    <tr>\n",
       "      <th>9</th>\n",
       "      <td>I was really excited to get this product but w...</td>\n",
       "      <td>1</td>\n",
       "    </tr>\n",
       "  </tbody>\n",
       "</table>\n",
       "</div>"
      ],
      "text/plain": [
       "                                                TEXT  RATING\n",
       "0  The shirt was more of a smock. I expected a so...       1\n",
       "1  The shirt was more of a smock. I expected a so...       1\n",
       "2  The shirt was more of a smock. I expected a so...       1\n",
       "3  Just received my order today. When I opened th...       1\n",
       "4  First of all, the button hole on this belt nev...       1\n",
       "5  these didnt hold anything up and was obvious i...       1\n",
       "6                         Nothing else needed to say       1\n",
       "7  This didn't work on most of my pants because t...       1\n",
       "8  I was really excited to get this product but w...       1\n",
       "9  I was really excited to get this product but w...       1"
      ]
     },
     "execution_count": 2,
     "metadata": {},
     "output_type": "execute_result"
    }
   ],
   "source": [
    "data[:10]"
   ]
  },
  {
   "cell_type": "markdown",
   "metadata": {},
   "source": [
    "### Class balance?"
   ]
  },
  {
   "cell_type": "code",
   "execution_count": 3,
   "metadata": {},
   "outputs": [
    {
     "data": {
      "text/plain": [
       "array([1, 2, 3, 5, 4])"
      ]
     },
     "execution_count": 3,
     "metadata": {},
     "output_type": "execute_result"
    }
   ],
   "source": [
    "data[\"RATING\"].unique()"
   ]
  },
  {
   "cell_type": "code",
   "execution_count": 4,
   "metadata": {},
   "outputs": [
    {
     "name": "stdout",
     "output_type": "stream",
     "text": [
      "RATING:  1 NUMBER DATA:  2000\n",
      "RATING:  2 NUMBER DATA:  2000\n",
      "RATING:  3 NUMBER DATA:  2000\n",
      "RATING:  5 NUMBER DATA:  2000\n",
      "RATING:  4 NUMBER DATA:  2000\n"
     ]
    }
   ],
   "source": [
    "for i in data[\"RATING\"].unique():\n",
    "    number_per_class = len(data[data[\"RATING\"] == i])\n",
    "    print('RATING: ',i,'NUMBER DATA: ',number_per_class) #2OOO FROM EACH CLASS: BALANCED."
   ]
  },
  {
   "cell_type": "code",
   "execution_count": 5,
   "metadata": {},
   "outputs": [
    {
     "data": {
      "image/png": "[encoded data removed]",
      "text/plain": [
       "<Figure size 648x216 with 1 Axes>"
      ]
     },
     "metadata": {
      "needs_background": "light"
     },
     "output_type": "display_data"
    }
   ],
   "source": [
    "plt.figure(figsize=(9, 3))\n",
    "plt.bar(data[\"RATING\"].unique(), number_per_class)\n",
    "plt.show()\n",
    "#It was explicitely said to plot it"
   ]
  },
  {
   "cell_type": "markdown",
   "metadata": {},
   "source": [
    "###  Five most predominant words for each class."
   ]
  },
  {
   "cell_type": "code",
   "execution_count": null,
   "metadata": {},
   "outputs": [],
   "source": [
    "#First, I preprocess the data so that the most frequent words are not: the, I, etc, but valuable words,\n",
    "#which can give us insights of the main meaning of the text."
   ]
  },
  {
   "cell_type": "code",
   "execution_count": 105,
   "metadata": {},
   "outputs": [
    {
     "name": "stdout",
     "output_type": "stream",
     "text": [
      "With rating :  1  words:  [('the', 3692), ('I', 3689), ('and', 2253), ('a', 1845), ('to', 1619)]\n",
      "With rating :  2  words:  [('the', 4486), ('I', 4224), ('and', 2510), ('a', 1996), ('to', 1897)]\n",
      "With rating :  3  words:  [('I', 4347), ('the', 4297), ('a', 2551), ('and', 2427), ('to', 2039)]\n",
      "With rating :  4  words:  [('I', 4343), ('the', 3902), ('a', 2833), ('and', 2751), ('to', 2015)]\n",
      "With rating :  5  words:  [('I', 4684), ('and', 3310), ('the', 3034), ('a', 2455), ('to', 2319)]\n"
     ]
    }
   ],
   "source": [
    "#Proof that actually that happens\n",
    "from collections import Counter\n",
    "for i in range(1,6):\n",
    "    print('With rating : ',i,' words: ',Counter(\" \".join(data[data[\"RATING\"] == i][\"TEXT\"]).split()).most_common(5))"
   ]
  },
  {
   "cell_type": "code",
   "execution_count": 99,
   "metadata": {
    "scrolled": true
   },
   "outputs": [],
   "source": [
    "import re\n",
    "import nltk\n",
    "from nltk.tokenize import word_tokenize\n",
    "from nltk.stem import WordNetLemmatizer\n",
    "from nltk.stem.lancaster import LancasterStemmer\n",
    "from nltk.corpus import stopwords\n",
    "from pycontractions import Contractions\n",
    "\n",
    "#This is the best preprocessing that I found.\n",
    "#I have also tried: Expanding (wouldn't --> would not)\n",
    "#                   Taking into account 'not' because it could have been helpful for negative reviews\n",
    "#                                        but I have found that it would appear a lot (top 1) in all reviews.\n",
    "\n",
    "def preprocess(x):\n",
    "    #lower cases and possible noise\n",
    "    x =  re.sub('[^a-z\\s]', '', x.lower()) \n",
    "    \n",
    "    #Lemmatize\n",
    "    lemmatizer = WordNetLemmatizer() \n",
    "    lemm = lemmatizer.lemmatize(x)\n",
    "    \n",
    "    #tokenizer\n",
    "    word_tokens = nltk.word_tokenize(lemm)\n",
    "\n",
    "    #stopwords\n",
    "    stopword = stopwords.words('english')\n",
    "    removing_stopwords = [word for word in word_tokens if word not in stopword]\n",
    "\n",
    "    #words non alphabetic. Remove punctuation\n",
    "    words_alp = [word for word in removing_stopwords if word.isalpha()]\n",
    "    \n",
    "    return words_alp    \n",
    "\n",
    "data['Clean_text'] = data['TEXT'].apply(preprocess)\n"
   ]
  },
  {
   "cell_type": "code",
   "execution_count": 104,
   "metadata": {},
   "outputs": [
    {
     "name": "stdout",
     "output_type": "stream",
     "text": [
      "With rating :  1  words: {'bra': 1311, 'size': 610, 'like': 465, 'fit': 455, 'bras': 357}\n",
      "With rating :  2  words: {'bra': 1271, 'size': 628, 'like': 578, 'fit': 524, 'would': 435}\n",
      "With rating :  3  words: {'bra': 1613, 'size': 660, 'like': 609, 'would': 534, 'comfortable': 512}\n",
      "With rating :  4  words: {'bra': 984, 'size': 620, 'like': 539, 'fit': 479, 'comfortable': 456}\n",
      "With rating :  5  words: {'love': 648, 'great': 618, 'bra': 533, 'size': 485, 'pumping': 460}\n"
     ]
    }
   ],
   "source": [
    "from collections import defaultdict \n",
    "import operator\n",
    "\n",
    "for rating in range(1,6):\n",
    "    \n",
    "    d = defaultdict(int) \n",
    "    for i in data[data[\"RATING\"] == rating][\"Clean_text\"]: #loop over all new texts\n",
    "        for j in i:                                        #loos over words in each new text\n",
    "            d[j] += 1                                   #with defaultdict if there is no word it creates an new key\n",
    "\n",
    "    print('With rating : ',rating,' words:',dict(sorted(d.items(), key=operator.itemgetter(1), reverse=True)[:5]))"
   ]
  }
 ],
 "metadata": {
  "kernelspec": {
   "display_name": "Python 3",
   "language": "python",
   "name": "python3"
  },
  "language_info": {
   "codemirror_mode": {
    "name": "ipython",
    "version": 3
   },
   "file_extension": ".py",
   "mimetype": "text/x-python",
   "name": "python",
   "nbconvert_exporter": "python",
   "pygments_lexer": "ipython3",
   "version": "3.7.7"
  }
 },
 "nbformat": 4,
 "nbformat_minor": 4
}
